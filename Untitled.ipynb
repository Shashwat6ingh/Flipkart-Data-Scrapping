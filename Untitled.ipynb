{
 "cells": [
  {
   "cell_type": "code",
   "execution_count": 7,
   "id": "caf8b1b7-ce7d-42f4-8b0e-31e5f111b2eb",
   "metadata": {},
   "outputs": [],
   "source": [
    "\n",
    "\n",
    "import requests\n",
    "from bs4 import BeautifulSoup\n",
    "\n",
    "\n",
    "def getProduct(querry, page):\n",
    "    headers = {\n",
    "        'User-Agent': 'Mozilla/5.0 (Windows NT 10.0; Win64; x64; rv:122.0) Gecko/20100101 Firefox/122.0',\n",
    "        'Accept': 'text/html,application/xhtml+xml,application/xml;q=0.9,image/avif,image/webp,*/*;q=0.8',\n",
    "        'Accept-Language': 'en-GB,en;q=0.5',\n",
    "        'Referer': 'https://www.flipkart.com/',\n",
    "        'Upgrade-Insecure-Requests': '1',\n",
    "        'Sec-Fetch-Dest': 'document',\n",
    "        'Sec-Fetch-Mode': 'navigate',\n",
    "        'Sec-Fetch-Site': 'same-origin',\n",
    "        'Sec-Fetch-User': '?1',\n",
    "        'Connection': 'keep-alive',\n",
    "    \n",
    "    }\n",
    "\n",
    "    params = {\n",
    "        'q': querry,\n",
    "        'otracker': 'search',\n",
    "        'otracker1': 'search',\n",
    "        'marketplace': 'FLIPKART',\n",
    "        'as-show': 'on',\n",
    "        'as': 'off',\n",
    "        'page': page,\n",
    "    }\n",
    "\n",
    "    response = requests.get('https://www.flipkart.com/search', params=params,  headers=headers)\n",
    "    return response.text\n",
    "\n"
   ]
  },
  {
   "cell_type": "code",
   "execution_count": 10,
   "id": "60a451db",
   "metadata": {},
   "outputs": [],
   "source": [
    "htmlDataResponse = getProduct('Mobile', 5)"
   ]
  },
  {
   "cell_type": "code",
   "execution_count": 12,
   "id": "8f5f3ee6-328b-4cb4-8925-bdddff380bab",
   "metadata": {},
   "outputs": [],
   "source": [
    "\n",
    "soup = BeautifulSoup(htmlDataResponse, 'html.parser')\n",
    "\n",
    "with open('index.html', 'w', encoding='utf') as file:\n",
    "     file.write(soup.prettify())\n",
    "     file.close()"
   ]
  },
  {
   "cell_type": "code",
   "execution_count": 20,
   "id": "71981142",
   "metadata": {},
   "outputs": [],
   "source": [
    "allResult = soup.find_all('div', class_=\"cPHDOP col-12-12\")"
   ]
  },
  {
   "cell_type": "code",
   "execution_count": 21,
   "id": "0af57c8c",
   "metadata": {},
   "outputs": [
    {
     "name": "stdout",
     "output_type": "stream",
     "text": [
      "Total results found: 30\n"
     ]
    }
   ],
   "source": [
    "#print(allResult[0])\n",
    "lenResult = len(allResult)\n",
    "print(f'Total results found: {lenResult}')"
   ]
  },
  {
   "cell_type": "code",
   "execution_count": 26,
   "id": "04a7e555",
   "metadata": {},
   "outputs": [
    {
     "name": "stdout",
     "output_type": "stream",
     "text": [
      "{'Name': 'Motorola g45 5G (Brilliant Green, 128 GB)', 'Price': '10999', 'Rating': '4.339,303 Ratings\\xa0&\\xa02,518 Reviews'}\n",
      "{'Name': 'Motorola G85 5G (Olive Green, 256 GB)', 'Price': '18999', 'Rating': '4.469,009 Ratings\\xa0&\\xa03,857 Reviews'}\n",
      "{'Name': 'POCO M7 5G (Ocean Blue, 128 GB)', 'Price': '9499', 'Rating': '4.19,856 Ratings\\xa0&\\xa0614 Reviews'}\n",
      "{'Name': 'Kechaoda A26', 'Price': '897', 'Rating': '427,031 Ratings\\xa0&\\xa01,549 Reviews'}\n",
      "{'Name': 'Infinix Hot 50 5G (Dreamy Purple, 128 GB)', 'Price': '10499', 'Rating': '4.415,602 Ratings\\xa0&\\xa01,144 Reviews'}\n",
      "{'Name': 'realme 14 Pro+ 5G (Pearl White, 256 GB)', 'Price': '31999', 'Rating': '4.46,701 Ratings\\xa0&\\xa01,025 Reviews'}\n",
      "{'Name': 'Infinix Note 50s 5G+ (Burgundy Red, 256 GB)', 'Price': '17999', 'Rating': '4.44,319 Ratings\\xa0&\\xa0470 Reviews'}\n",
      "{'Name': 'POCO M7 Pro 5G (Lavender Frost, 128 GB)', 'Price': '12999', 'Rating': '4.39,533 Ratings\\xa0&\\xa0946 Reviews'}\n",
      "{'Name': 'Infinix Hot 50 5G (Sleek Black, 128 GB)', 'Price': '10499', 'Rating': '4.415,602 Ratings\\xa0&\\xa01,144 Reviews'}\n",
      "{'Name': 'realme P1 5G (Feather Blue, 128 GB)', 'Price': '13999', 'Rating': '4.41,02,591 Ratings\\xa0&\\xa06,033 Reviews'}\n",
      "{'Name': 'Infinix Hot 50 5G (Vibrant Blue, 128 GB)', 'Price': '10499', 'Rating': '4.415,602 Ratings\\xa0&\\xa01,144 Reviews'}\n",
      "{'Name': 'realme P3x 5G (Midnight Blue, 128 GB)', 'Price': '13999', 'Rating': '4.511,219 Ratings\\xa0&\\xa0349 Reviews'}\n",
      "{'Name': 'CMF by Nothing Phone 2 Pro (Black, 256 GB)', 'Price': '20999', 'Rating': '4.43,154 Ratings\\xa0&\\xa0383 Reviews'}\n",
      "{'Name': 'realme P2 Pro 5G (Parrot Green, 256 GB)', 'Price': '19999', 'Rating': '4.414,126 Ratings\\xa0&\\xa01,131 Reviews'}\n",
      "{'Name': 'POCO C61 (Mystical Green, 64 GB)', 'Price': '6407', 'Rating': '4.21,02,172 Ratings\\xa0&\\xa04,375 Reviews'}\n",
      "{'Name': 'POCO X7 Pro 5G (Yellow, 256 GB)', 'Price': '23999', 'Rating': '4.35,585 Ratings\\xa0&\\xa0923 Reviews'}\n",
      "{'Name': 'realme Narzo N61 (Vyage Blue, 64 GB)', 'Price': '7399', 'Rating': '4.34,522 Ratings\\xa0&\\xa0218 Reviews'}\n",
      "{'Name': 'itel it2165s', 'Price': '879', 'Rating': '4.11,678 Ratings\\xa0&\\xa080 Reviews'}\n",
      "{'Name': 'realme C61 (Marble Black, 128 GB)', 'Price': '8199', 'Rating': '4.415,126 Ratings\\xa0&\\xa0549 Reviews'}\n",
      "{'Name': 'LAVA A1 Josh BOL Keypad Mobile|1000 mAh Battery|Expandable Storage 32GB', 'Price': '992', 'Rating': '417,704 Ratings\\xa0&\\xa0787 Reviews'}\n",
      "{'Name': 'Motorola G85 5G (Urban Grey, 128 GB)', 'Price': '16999', 'Rating': '4.41,79,017 Ratings\\xa0&\\xa09,437 Reviews'}\n",
      "{'Name': 'Kechaoda K112', 'Price': '1417', 'Rating': '430,408 Ratings\\xa0&\\xa02,771 Reviews'}\n",
      "{'Name': 'realme C61 (Safari Green, 64 GB)', 'Price': '7699', 'Rating': '4.36,530 Ratings\\xa0&\\xa0252 Reviews'}\n",
      "{'Name': 'REDMI Note 14 5G (Phantom Purple, 128 GB)', 'Price': '17349', 'Rating': '4.31,346 Ratings\\xa0&\\xa072 Reviews'}\n"
     ]
    }
   ],
   "source": [
    "import pandas as pd\n",
    "ProductList = []\n",
    "\n",
    "for result in allResult:\n",
    "    ProductDict = {}\n",
    "    try:\n",
    "        ProductName = result.find('div', class_ = 'KzDlHZ')\n",
    "        ProductPrice = result.find('div', class_ = 'Nx9bqj _4b5DiR')\n",
    "        ProductRating =result.find('div', class_ = '_5OesEi')\n",
    "        ProductDict['Name'] = ProductName.text\n",
    "        ProductDict['Price'] = ProductPrice.text.replace('₹', '').replace(',', '')\n",
    "        ProductDict['Rating'] = ProductRating.text\n",
    "    except:\n",
    "        continue\n",
    "    ProductList.append(ProductDict)\n",
    "    print(ProductDict)"
   ]
  },
  {
   "cell_type": "code",
   "execution_count": 29,
   "id": "7fc22300",
   "metadata": {},
   "outputs": [],
   "source": [
    "df = pd.DataFrame(ProductList)\n",
    "df.to_csv('Flipkart_Mobile_Products.csv', index=False, encoding='utf-8-sig')\n"
   ]
  }
 ],
 "metadata": {
  "kernelspec": {
   "display_name": "Python 3",
   "language": "python",
   "name": "python3"
  },
  "language_info": {
   "codemirror_mode": {
    "name": "ipython",
    "version": 3
   },
   "file_extension": ".py",
   "mimetype": "text/x-python",
   "name": "python",
   "nbconvert_exporter": "python",
   "pygments_lexer": "ipython3",
   "version": "3.10.10"
  }
 },
 "nbformat": 4,
 "nbformat_minor": 5
}
